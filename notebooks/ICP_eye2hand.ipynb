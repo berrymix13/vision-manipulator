{
 "cells": [
  {
   "cell_type": "code",
   "execution_count": 1,
   "id": "4f3f50c8",
   "metadata": {},
   "outputs": [],
   "source": [
    "import json\n",
    "import numpy as np\n",
    "import cv2\n",
    "from glob import glob\n",
    "from scipy.spatial.transform import Rotation as R\n",
    "from scipy.optimize import least_squares"
   ]
  },
  {
   "cell_type": "code",
   "execution_count": 2,
   "id": "a1df41f0",
   "metadata": {},
   "outputs": [],
   "source": [
    "def se3_log(R_mat, t_vec):\n",
    "    \"\"\"SE(3) 로그맵: 회전 행렬 + 이동 벡터 → 6D 벡터\"\"\"\n",
    "    rvec, _ = cv2.Rodrigues(R_mat)\n",
    "    return np.hstack([rvec.flatten(), t_vec.flatten()])\n",
    "\n",
    "def se3_exp(xi):\n",
    "    \"\"\"SE(3) 지수맵: 6D 벡터 → 회전 행렬 + 이동 벡터\"\"\"\n",
    "    rvec = xi[:3]\n",
    "    tvec = xi[3:].reshape(3, 1)\n",
    "    R_mat, _ = cv2.Rodrigues(rvec)\n",
    "    return R_mat, tvec\n",
    "\n",
    "def residual_icp(xi, T_cam2target_list, T_base2ee_list):\n",
    "    R_cb, t_cb = se3_exp(xi)\n",
    "    T_cb = np.eye(4)\n",
    "    T_cb[:3, :3] = R_cb\n",
    "    T_cb[:3, 3] = t_cb.flatten()\n",
    "\n",
    "    residuals = []\n",
    "    for T_cam2target, T_base2ee in zip(T_cam2target_list, T_base2ee_list):\n",
    "        T_cam2target_pred = T_cb @ T_base2ee\n",
    "        delta_T = np.linalg.inv(T_cam2target) @ T_cam2target_pred\n",
    "        R_err = delta_T[:3, :3]\n",
    "        t_err = delta_T[:3, 3].reshape(3, 1)\n",
    "        residuals.append(se3_log(R_err, t_err))\n",
    "    \n",
    "    return np.concatenate(residuals)\n",
    "\n",
    "def optimize_icp(T_cam2target_list, T_base2ee_list, T_cb_init):\n",
    "    R_init = T_cb_init[:3, :3]\n",
    "    t_init = T_cb_init[:3, 3].reshape(3, 1)\n",
    "    xi0 = se3_log(R_init, t_init)\n",
    "\n",
    "    result = least_squares(\n",
    "        residual_icp, xi0, method='lm',\n",
    "        args=(T_cam2target_list, T_base2ee_list)\n",
    "    )\n",
    "\n",
    "    R_opt, t_opt = se3_exp(result.x)\n",
    "    T_cb_opt = np.eye(4)\n",
    "    T_cb_opt[:3, :3] = R_opt\n",
    "    T_cb_opt[:3, 3] = t_opt.flatten()\n",
    "    return T_cb_opt"
   ]
  },
  {
   "cell_type": "code",
   "execution_count": 3,
   "id": "4b8c3d23",
   "metadata": {},
   "outputs": [],
   "source": [
    "# --- SE(3) log/exp ---\n",
    "def se3_log(R_mat, t_vec):\n",
    "    rvec, _ = cv2.Rodrigues(R_mat)\n",
    "    return np.hstack([rvec.flatten(), t_vec.flatten()])\n",
    "\n",
    "def se3_exp(xi):\n",
    "    rvec = xi[:3]\n",
    "    tvec = xi[3:].reshape(3, 1)\n",
    "    R_mat, _ = cv2.Rodrigues(rvec)\n",
    "    return R_mat, tvec\n",
    "\n",
    "def se3_log12(T):\n",
    "    return se3_log(T[:3,:3], T[:3,3].reshape(3,1))\n",
    "\n",
    "def se3_exp12(xi12):\n",
    "    R_cb, t_cb = se3_exp(xi12[:6])\n",
    "    R_et, t_et = se3_exp(xi12[6:])\n",
    "    T_cb = np.eye(4); T_cb[:3,:3]=R_cb; T_cb[:3,3]=t_cb.flatten()\n",
    "    T_et = np.eye(4); T_et[:3,:3]=R_et; T_et[:3,3]=t_et.flatten()\n",
    "    return T_cb, T_et\n",
    "\n",
    "# --- Residuals: 보드=EE 고정, T_ct_pred = T_cb @ T_be @ T_et ---\n",
    "def residual_joint(xi12, T_cam2target_list, T_base2ee_list, \n",
    "                   trans_weight=20.0, weights=None):\n",
    "    # trans_weight [1/m]: 0.05m(5cm) ≈ 1rad 정도로 맞추려면 ≈ 20\n",
    "    T_cb, T_et = se3_exp12(xi12)\n",
    "    res = []\n",
    "    for i, (T_ct_obs, T_be) in enumerate(zip(T_cam2target_list, T_base2ee_list)):\n",
    "        T_ct_pred = T_cb @ T_be @ T_et\n",
    "        delta = np.linalg.inv(T_ct_obs) @ T_ct_pred\n",
    "        R_err = delta[:3,:3]\n",
    "        t_err = delta[:3,3].reshape(3,1)\n",
    "        rvec, _ = cv2.Rodrigues(R_err)\n",
    "        r = np.hstack([rvec.flatten(), (trans_weight * t_err).flatten()])\n",
    "        if weights is not None:\n",
    "            r *= weights[i]\n",
    "        res.append(r)\n",
    "    return np.concatenate(res)\n",
    "\n",
    "def optimize_joint(T_cam2target_list, T_base2ee_list, \n",
    "                   T_cb_init, T_et_init=None,\n",
    "                   trans_weight=20.0, weights=None):\n",
    "    if T_et_init is None:\n",
    "        T_et_init = np.eye(4)\n",
    "\n",
    "    xi_cb0 = se3_log(T_cb_init[:3,:3], T_cb_init[:3,3].reshape(3,1))\n",
    "    xi_et0 = se3_log(T_et_init[:3,:3], T_et_init[:3,3].reshape(3,1))\n",
    "    xi0 = np.hstack([xi_cb0, xi_et0])\n",
    "\n",
    "    result = least_squares(\n",
    "        residual_joint, xi0, method='trf',\n",
    "        loss='soft_l1', f_scale=1.0, max_nfev=400,\n",
    "        args=(T_cam2target_list, T_base2ee_list, trans_weight, weights)\n",
    "    )\n",
    "    T_cb, T_et = se3_exp12(result.x)\n",
    "    return T_cb, T_et, result"
   ]
  },
  {
   "cell_type": "code",
   "execution_count": 4,
   "id": "7a1e6537",
   "metadata": {},
   "outputs": [],
   "source": [
    "MAIN_PATH = \"/home/ros/llm_robot/data/Calibration/Eye-to-Hand11\"\n",
    "with open(f\"{MAIN_PATH}/cam2base.json\", \"r\") as f:\n",
    "    data = json.load(f)\n",
    "\n",
    "R_cam2base = np.array(data[\"R_cam2base\"])\n",
    "t_cam2base = np.array(data[\"t_cam2base\"]).reshape(3)\n",
    "q_init = R.from_matrix(R_cam2base).as_quat()\n",
    "x0 = np.hstack((q_init, t_cam2base))"
   ]
  },
  {
   "cell_type": "code",
   "execution_count": 5,
   "id": "9ad2d7b3",
   "metadata": {},
   "outputs": [
    {
     "data": {
      "text/plain": [
       "(25, 27)"
      ]
     },
     "execution_count": 5,
     "metadata": {},
     "output_type": "execute_result"
    }
   ],
   "source": [
    "sorted_pose_files = sorted(glob(f\"{MAIN_PATH}/poses/*.json\"))\n",
    "sorted_charuco_files = sorted(glob(f\"{MAIN_PATH}/*.json\"))\n",
    "len(sorted_pose_files), len(sorted_charuco_files)"
   ]
  },
  {
   "cell_type": "code",
   "execution_count": 6,
   "id": "6a362316",
   "metadata": {},
   "outputs": [],
   "source": [
    "pose_data = []\n",
    "for pf, cf in zip(sorted_pose_files, sorted_charuco_files[:25]):\n",
    "    with open(pf) as f: pose = json.load(f)\n",
    "    with open(cf) as f: charuco = json.load(f)\n",
    "    \n",
    "    R_base2ee = np.array(pose[\"R_base2ee\"])\n",
    "    t_base2ee = np.array(pose[\"t_base2ee\"]).reshape(3)\n",
    "    \n",
    "    rvec = np.array(charuco[\"rvec_target2cam\"]).reshape(3)\n",
    "    tvec = np.array(charuco[\"tvec_target2cam\"]).reshape(3)\n",
    "    R_board2cam = R.from_rotvec(rvec).as_matrix()\n",
    "    t_board2cam = tvec\n",
    "    \n",
    "    pose_data.append({\n",
    "        \"R_base2ee\": R_base2ee,\n",
    "        \"t_base2ee\": t_base2ee,\n",
    "        \"R_board2cam\": R_board2cam,\n",
    "        \"t_board2cam\": t_board2cam\n",
    "    })"
   ]
  },
  {
   "cell_type": "code",
   "execution_count": 7,
   "id": "122d584c",
   "metadata": {},
   "outputs": [],
   "source": [
    "T_base2ee_list = []\n",
    "T_cam2target_list = []\n",
    "\n",
    "for d in pose_data:\n",
    "    # --- base to end-effector ---\n",
    "    T_be = np.eye(4)\n",
    "    T_be[:3, :3] = d[\"R_base2ee\"]\n",
    "    T_be[:3, 3] = d[\"t_base2ee\"]\n",
    "    T_base2ee_list.append(T_be)\n",
    "    \n",
    "    # --- cam to target (solvePnP에서 board to cam → 역행렬) ---\n",
    "    R_bc = d[\"R_board2cam\"]\n",
    "    t_bc = d[\"t_board2cam\"].reshape(3, 1)\n",
    "\n",
    "    T_bc = np.eye(4)\n",
    "    T_bc[:3, :3] = R_bc\n",
    "    T_bc[:3, 3] = t_bc.flatten()\n",
    "\n",
    "    # cam2target = inverse(board2cam)\n",
    "    T_ct = np.linalg.inv(T_bc)\n",
    "    T_cam2target_list.append(T_ct)"
   ]
  },
  {
   "cell_type": "code",
   "execution_count": 8,
   "id": "2f110176",
   "metadata": {},
   "outputs": [
    {
     "data": {
      "text/plain": [
       "array([[-0.00754092,  0.99988081, -0.01347241,  0.14904503],\n",
       "       [ 0.9815216 ,  0.00997722,  0.19109106, -0.16658555],\n",
       "       [ 0.1912027 , -0.01178246, -0.98147985,  0.51928934],\n",
       "       [ 0.        ,  0.        ,  0.        ,  1.        ]])"
      ]
     },
     "execution_count": 8,
     "metadata": {},
     "output_type": "execute_result"
    }
   ],
   "source": [
    "T_cam2base_init = np.eye(4)\n",
    "T_cam2base_init[:3, :3] = R_cam2base\n",
    "T_cam2base_init[:3, 3] = t_cam2base\n",
    "\n",
    "T_cam2base_icp_refined = optimize_icp(\n",
    "    T_cam2target_list,\n",
    "    T_base2ee_list,\n",
    "    T_cb_init=T_cam2base_init\n",
    ")\n",
    "T_cam2base_icp_refined"
   ]
  },
  {
   "cell_type": "code",
   "execution_count": 9,
   "id": "57ed4338",
   "metadata": {},
   "outputs": [
    {
     "name": "stdout",
     "output_type": "stream",
     "text": [
      "Optimized cam2base saved.\n"
     ]
    }
   ],
   "source": [
    "# 결과 저장\n",
    "if T_cam2base_icp_refined is not None:\n",
    "    output = {\n",
    "        \"R_cam2base\": T_cam2base_icp_refined[:3,:3].tolist(),\n",
    "        \"t_cam2base\": T_cam2base_icp_refined[:3,3].tolist()\n",
    "    }\n",
    "    with open(f\"{MAIN_PATH}/cam2base_icp.json\", \"w\") as f:\n",
    "        json.dump(output, f, indent=4)\n",
    "    print(\"Optimized cam2base saved.\")\n",
    "\n",
    "else:\n",
    "    print(\"RANSAC failed to find a valid model.\")"
   ]
  },
  {
   "cell_type": "code",
   "execution_count": null,
   "id": "668f22df",
   "metadata": {},
   "outputs": [],
   "source": []
  }
 ],
 "metadata": {
  "kernelspec": {
   "display_name": "llm_env",
   "language": "python",
   "name": "python3"
  },
  "language_info": {
   "codemirror_mode": {
    "name": "ipython",
    "version": 3
   },
   "file_extension": ".py",
   "mimetype": "text/x-python",
   "name": "python",
   "nbconvert_exporter": "python",
   "pygments_lexer": "ipython3",
   "version": "3.10.12"
  }
 },
 "nbformat": 4,
 "nbformat_minor": 5
}

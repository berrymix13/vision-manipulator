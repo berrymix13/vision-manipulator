{
 "cells": [
  {
   "cell_type": "code",
   "execution_count": 2,
   "id": "49643e8e",
   "metadata": {},
   "outputs": [],
   "source": [
    "import os\n",
    "import json\n",
    "import numpy as np\n",
    "from glob import glob\n",
    "from scipy.optimize import least_squares\n",
    "from scipy.spatial.transform import Rotation"
   ]
  },
  {
   "cell_type": "code",
   "execution_count": 153,
   "metadata": {},
   "outputs": [],
   "source": [
    "# utils\n",
    "def se3_mul(Ta, Tb):\n",
    "    Ra, ta = Ta[:3, :3], Ta[:3, 3]\n",
    "    Rb, tb = Tb[:3, :3], Tb[:3, 3]\n",
    "    T = np.eye(4)\n",
    "    T[:3, :3] = Ra @ Rb\n",
    "    T[:3, 3] = Ra @ tb + ta\n",
    "    return T\n",
    "\n",
    "def se3_inv(T):\n",
    "    R, t = T[:3, :3], T[:3, 3]\n",
    "    T_inv = np.eye(4)\n",
    "    T_inv[:3, :3] = R.T\n",
    "    T_inv[:3, 3] = -R.T @ t\n",
    "    return T_inv\n",
    "    \n",
    "def se3_from_Rt(R, t):\n",
    "    T = np.eye(4)\n",
    "    T[:3, :3] = R\n",
    "    T[:3, 3] = t.reshape(3)\n",
    "    return T\n",
    "\n",
    "def log_SO3(R):\n",
    "    return Rotation.from_matrix(R).as_rotvec()\n",
    "\n",
    "def log_se3(T):\n",
    "    r = log_SO3(T[:3, :3])\n",
    "    t = T[:3, 3]\n",
    "    return np.hstack([r, t])"
   ]
  },
  {
   "cell_type": "code",
   "execution_count": 154,
   "id": "08bd0f58",
   "metadata": {},
   "outputs": [],
   "source": [
    "# main PGO function\n",
    "\n",
    "def optimize_cam2base_PGO(\n",
    "    A_list, B_list,\n",
    "    R_cam2base_init = np.eye(3), t_cam2base_init=np.zeros(3),\n",
    "    max_nfev = 200\n",
    "):\n",
    "    # 변수: X=cam2base(6), Y=target2base(6) → 총 12\n",
    "    x0 = np.zeros(12)\n",
    "    x0[:3]  = Rotation.from_matrix(R_cam2base_init).as_rotvec()\n",
    "    x0[3:6] = t_cam2base_init\n",
    "    \n",
    "    # Y 초기값은 대충 A_0 * X * B_0 (합리적 초기)\n",
    "    X0 = se3_from_Rt(R_cam2base_init, t_cam2base_init)\n",
    "    Y0 = se3_mul(se3_mul(A_list[0], X0), B_list[0])\n",
    "    x0[6:9]  = Rotation.from_matrix(Y0[:3,:3]).as_rotvec()\n",
    "    x0[9:12] = Y0[:3,3]\n",
    "    \n",
    "    def unpack(x):\n",
    "        rX, tX = x[:3], x[3:6]\n",
    "        rY, tY = x[6:9], x[9:12]\n",
    "        X = se3_from_Rt(Rotation.from_rotvec(rX).as_matrix(), tX)\n",
    "        Y = se3_from_Rt(Rotation.from_rotvec(rY).as_matrix(), tY)\n",
    "        return X, Y\n",
    "\n",
    "    \n",
    "    def residual(x):\n",
    "        X, Y = unpack(x)\n",
    "        Yin = se3_inv(Y)\n",
    "        res = []\n",
    "        for A, B in zip(A_list, B_list):\n",
    "            T = se3_mul(se3_mul(Yin, A), se3_mul(X, B))\n",
    "            e = log_se3(T)\n",
    "            res.append(e)\n",
    "            \n",
    "        return np.concatenate(res)\n",
    "    \n",
    "    # Outlier가 있으면 'trf'+'soft_l1' 추천, 없으면 LM도 OK\n",
    "    result = least_squares(residual, x0, method='trf', loss='soft_l1', f_scale=1.0, max_nfev=max_nfev)\n",
    "    X_opt, Y_opt = unpack(result.x)\n",
    "    return X_opt, Y_opt, result"
   ]
  },
  {
   "cell_type": "code",
   "execution_count": 155,
   "id": "6bca06ff",
   "metadata": {},
   "outputs": [],
   "source": [
    "MAIN_PATH = \"../data/Calibration/Eye-to-Hand12//\"\n",
    "\n",
    "pose_files = sorted(glob(f\"{MAIN_PATH}/poses/*.json\"))\n",
    "charuco_files = sorted(glob(f\"{MAIN_PATH}/*_charuco.json\"))\n",
    "\n",
    "R_target2cam_list = []\n",
    "t_target2cam_list = []\n",
    "R_base2ee_list = []\n",
    "t_base2ee_list = []\n",
    "\n",
    "for pose_file, charuco_file in zip(pose_files, charuco_files):\n",
    "    with open(pose_file, \"r\") as f:\n",
    "        pose = json.load(f)\n",
    "    with open(charuco_file, \"r\") as f:\n",
    "        charuco = json.load(f)\n",
    "        \n",
    "        \n",
    "    R_base2ee = np.array(pose[\"R_base2ee\"]).reshape(3, 3)\n",
    "    t_base2ee = np.array(pose[\"t_base2ee\"]).reshape(3, 1)\n",
    "    \n",
    "    r_tc = np.array(charuco[\"rvec_target2cam\"], float).reshape(3)\n",
    "    t_tc = np.array(charuco[\"tvec_target2cam\"], float).reshape(3)\n",
    "    \n",
    "    r_tc = np.asarray(r_tc, float).reshape(3)\n",
    "    R_tc = Rotation.from_rotvec(r_tc).as_matrix()\n",
    "\n",
    "    R_target2cam_list.append(R_tc)\n",
    "    t_target2cam_list.append(t_tc)\n",
    "    R_base2ee_list.append(R_base2ee)\n",
    "    t_base2ee_list.append(t_base2ee)"
   ]
  },
  {
   "cell_type": "code",
   "execution_count": 156,
   "id": "54e2fcd4",
   "metadata": {},
   "outputs": [],
   "source": [
    "# 파일 길이 맞추기 \n",
    "# N = min(len(R_target2cam_list), len(R_base2ee_list))\n",
    "# R_target2cam_list = R_target2cam_list[:N]\n",
    "# t_target2cam_list = t_target2cam_list[:N]\n",
    "# R_base2ee_list    = R_base2ee_list[:N]\n",
    "# t_base2ee_list    = t_base2ee_list[:N]\n",
    "\n",
    "N = len(R_target2cam_list)\n",
    "assert N == len(t_target2cam_list) == len(R_base2ee_list) == len(t_base2ee_list) and N >= 3\n",
    "\n",
    "A_list = [se3_from_Rt(Ra, ta) for Ra, ta in zip(R_base2ee_list, t_base2ee_list)]\n",
    "B_list = [se3_from_Rt(Ra, ta) for Ra, ta in zip(R_target2cam_list, t_target2cam_list)]"
   ]
  },
  {
   "cell_type": "code",
   "execution_count": 157,
   "id": "ffdba2a1",
   "metadata": {},
   "outputs": [],
   "source": [
    "R_init = np.eye(3); t_init = np.zeros(3)\n",
    "X_opt, Y_opt, info = optimize_cam2base_PGO(\n",
    "    A_list, B_list,\n",
    "    R_cam2base_init=R_init,\n",
    "    t_cam2base_init=t_init,\n",
    "    max_nfev=400\n",
    ")"
   ]
  },
  {
   "cell_type": "code",
   "execution_count": 158,
   "id": "379eab49",
   "metadata": {},
   "outputs": [
    {
     "name": "stdout",
     "output_type": "stream",
     "text": [
      "R_cam2base:\n",
      " [[-0.01382641  0.99782485  0.06445457]\n",
      " [-0.98251157 -0.02552834  0.18444327]\n",
      " [ 0.1856875  -0.06077718  0.98072743]]\n",
      "t_cam2base: [-0.15067404 -0.01696354  0.05434012]\n",
      "cost: 0.059640886742699406 nfev: 12\n"
     ]
    }
   ],
   "source": [
    "print(\"R_cam2base:\\n\", X_opt[:3,:3])\n",
    "print(\"t_cam2base:\", X_opt[:3,3])\n",
    "print(\"cost:\", info.cost, \"nfev:\", info.nfev)"
   ]
  },
  {
   "cell_type": "code",
   "execution_count": 159,
   "id": "2206cb3f",
   "metadata": {},
   "outputs": [
    {
     "name": "stdout",
     "output_type": "stream",
     "text": [
      "Case1  t: [-0.10106714  0.14882583  0.29596798]  cost: 0.98171807564522  nfev: 32\n"
     ]
    }
   ],
   "source": [
    "B_list_inv = [np.linalg.inv(T) for T in B_list]  # cam->target 이었다면 target->cam으로\n",
    "X1, Y1, info1 = optimize_cam2base_PGO(A_list, B_list_inv,\n",
    "                                              R_cam2base_init=np.eye(3),\n",
    "                                              t_cam2base_init=np.zeros(3),\n",
    "                                              max_nfev=400)\n",
    "print(\"Case1  t:\", X1[:3,3], \" cost:\", info1.cost, \" nfev:\", info1.nfev)"
   ]
  },
  {
   "cell_type": "code",
   "execution_count": 160,
   "id": "659c26d8",
   "metadata": {},
   "outputs": [
    {
     "name": "stdout",
     "output_type": "stream",
     "text": [
      "Case2  t: [ 0.29439146 -0.05197523  0.47158857]  cost: 1.04568907237763  nfev: 28\n"
     ]
    }
   ],
   "source": [
    "A_list_inv = [np.linalg.inv(T) for T in A_list]  # ee->base 였다면 base->ee로\n",
    "X2, Y2, info2 = optimize_cam2base_PGO(A_list_inv, B_list,\n",
    "                                              R_cam2base_init=np.eye(3),\n",
    "                                              t_cam2base_init=np.zeros(3),\n",
    "                                              max_nfev=400)\n",
    "print(\"Case2  t:\", X2[:3,3], \" cost:\", info2.cost, \" nfev:\", info2.nfev)\n"
   ]
  },
  {
   "cell_type": "code",
   "execution_count": 161,
   "id": "1e085046",
   "metadata": {},
   "outputs": [
    {
     "name": "stdout",
     "output_type": "stream",
     "text": [
      "Case3  t: [ 0.25175026 -0.03209375  0.54930591]  cost: 0.0532616185643493  nfev: 42\n"
     ]
    }
   ],
   "source": [
    "A_list_inv = [np.linalg.inv(T) for T in A_list]\n",
    "B_list_inv = [np.linalg.inv(T) for T in B_list]\n",
    "X3, Y3, info3 = optimize_cam2base_PGO(A_list_inv, B_list_inv,\n",
    "                                              R_cam2base_init=np.eye(3),\n",
    "                                              t_cam2base_init=np.zeros(3),\n",
    "                                              max_nfev=400)\n",
    "print(\"Case3  t:\", X3[:3,3], \" cost:\", info3.cost, \" nfev:\", info3.nfev)\n"
   ]
  },
  {
   "cell_type": "code",
   "execution_count": 162,
   "id": "6c28b1d0",
   "metadata": {},
   "outputs": [
    {
     "name": "stdout",
     "output_type": "stream",
     "text": [
      "R_cam2base:\n",
      " [[-3.03953622e-02  9.97616497e-01 -6.19471330e-02]\n",
      " [ 9.99535894e-01  3.04626947e-02  1.42561123e-04]\n",
      " [ 2.02929793e-03 -6.19140498e-02 -9.98079422e-01]]\n",
      "t_cam2base: [ 0.25175026 -0.03209375  0.54930591]\n",
      "cost: 0.0532616185643493 nfev: 42\n"
     ]
    }
   ],
   "source": [
    "print(\"R_cam2base:\\n\", X3[:3,:3])\n",
    "print(\"t_cam2base:\", X3[:3,3])\n",
    "print(\"cost:\", info3.cost, \"nfev:\", info3.nfev)"
   ]
  },
  {
   "cell_type": "code",
   "execution_count": 163,
   "id": "03b6f2a9",
   "metadata": {},
   "outputs": [],
   "source": [
    "out = {\"R_cam2base\": X3[:3,:3].reshape(3,3).tolist(),\n",
    "       \"t_cam2base\": X3[:3,3].flatten().tolist()}\n",
    "# cam2base_pgo_inliers.json 등으로 저장\n",
    "\n",
    "with open(f\"{MAIN_PATH}/cam2base_pgo_inliers.json\", \"w\") as f:\n",
    "    json.dump(out, f, indent=2)"
   ]
  },
  {
   "cell_type": "markdown",
   "id": "41ed6326",
   "metadata": {},
   "source": [
    "### Case4: Case3 + table_normal_fix R 초기값\n",
    "- robot pose: base2ee가 실제로는 ee2base\n",
    "- chruco pose: cam2target이 실제로는 target2cam이었음. (case3로 확인 완료)\n",
    "- 따라서 두 리스트 모두 inv()적용이 필수!\n",
    "- R은 초기값이 중요하기 때문에, table_normal_fix를 활용."
   ]
  },
  {
   "cell_type": "code",
   "execution_count": 164,
   "id": "3c9fea46",
   "metadata": {},
   "outputs": [],
   "source": [
    "init_cam2base_path = \"../data/Calibration/Eye-to-Hand11/cam2base_table_normal_fix.json\"\n",
    "\n",
    "with open(init_cam2base_path, \"r\") as f:\n",
    "    init_cam2base = json.load(f)\n",
    "\n",
    "R_cam2base_init = np.array(init_cam2base[\"R_cam2base\"]).reshape(3, 3)\n",
    "t_cam2base_init = np.array(init_cam2base[\"t_cam2base\"]).reshape(3, 1)"
   ]
  },
  {
   "cell_type": "code",
   "execution_count": 165,
   "id": "9e3b8852",
   "metadata": {},
   "outputs": [
    {
     "name": "stdout",
     "output_type": "stream",
     "text": [
      "Case4  t: [ 0.25175025 -0.03209376  0.54930592]  cost: 0.05326161856439815  nfev: 6\n"
     ]
    }
   ],
   "source": [
    "A_list_inv = [np.linalg.inv(T) for T in A_list]\n",
    "B_list_inv = [np.linalg.inv(T) for T in B_list]\n",
    "X4, Y4, info4 = optimize_cam2base_PGO(A_list_inv, B_list_inv,\n",
    "                                    R_cam2base_init=R_cam2base_init,\n",
    "                                    t_cam2base_init=np.zeros(3),\n",
    "                                    max_nfev=400)\n",
    "print(\"Case4  t:\", X4[:3,3], \" cost:\", info4.cost, \" nfev:\", info4.nfev)"
   ]
  },
  {
   "cell_type": "markdown",
   "id": "c68b9558",
   "metadata": {},
   "source": [
    "- 프레임별 잔차를 확인해 outlier가 있는지 확인\n",
    "- 특정 프레임이 유독 크다면 해당 프레임을 제회하고 다시 최적화하여 cost를 낮출 수 있음. \n",
    "- PGO 이후 다시 table_normal_fix를 사용하지 말것"
   ]
  },
  {
   "cell_type": "code",
   "execution_count": 166,
   "id": "6ff4fba5",
   "metadata": {},
   "outputs": [
    {
     "name": "stdout",
     "output_type": "stream",
     "text": [
      "rot err mean=3.09°  max=9.06°\n",
      "trans err mean=8.4mm  max=26.4mm\n"
     ]
    }
   ],
   "source": [
    "# 프레임별 잔차 확인\n",
    "def per_frame_residuals(X, Y, A_list, B_list):\n",
    "    Yin = np.linalg.inv(Y)\n",
    "    deg, mm = [], []\n",
    "    for A,B in zip(A_list, B_list):\n",
    "        T = np.linalg.inv(Y) @ A @ X @ B\n",
    "        r = Rotation.from_matrix(T[:3,:3]).as_rotvec()\n",
    "        t = T[:3,3]\n",
    "        deg.append(np.linalg.norm(r)*180/np.pi)\n",
    "        mm.append(np.linalg.norm(t)*1000)\n",
    "    return np.array(deg), np.array(mm)\n",
    "\n",
    "deg, mm = per_frame_residuals(X4, Y4, A_list_inv, B_list_inv)\n",
    "print(f\"rot err mean={deg.mean():.2f}°  max={deg.max():.2f}°\")\n",
    "print(f\"trans err mean={mm.mean():.1f}mm  max={mm.max():.1f}mm\")\n"
   ]
  },
  {
   "cell_type": "markdown",
   "id": "ee078d6c",
   "metadata": {},
   "source": [
    "rot err mean 7.67° / max 119.7° → 일부 프레임이 완전히 다른 좌표 정의/타임스탬프이거나 보드 포즈가 뒤집힌(≈180°) 케이스가 섞여있다는 신호.\n",
    "\n",
    "trans err mean 26 mm / max 280 mm → outlier 몇 장이 전체 해를 당기고 있음"
   ]
  },
  {
   "cell_type": "markdown",
   "id": "eb48bcb0",
   "metadata": {},
   "source": [
    "### MAD 기반 프레임 자동 필터"
   ]
  },
  {
   "cell_type": "code",
   "execution_count": 167,
   "id": "08170e1f",
   "metadata": {},
   "outputs": [],
   "source": [
    "def per_frame_residuals_SE3(X, Y, A_list, B_list):\n",
    "    deg_list, mm_list = [], []\n",
    "    Tinvs = np.linalg.inv(Y)\n",
    "    for A,B in zip(A_list, B_list):\n",
    "        T = Tinvs @ A @ X @ B\n",
    "        r = Rotation.from_matrix(T[:3,:3]).as_rotvec()\n",
    "        t = T[:3,3]\n",
    "        deg_list.append(np.linalg.norm(r)*180/np.pi)\n",
    "        mm_list.append(np.linalg.norm(t)*1000)\n",
    "    return np.array(deg_list), np.array(mm_list)\n",
    "\n",
    "def mad_filter(vals, k=3.5):\n",
    "    med = np.median(vals)\n",
    "    mad = np.median(np.abs(vals - med)) + 1e-9\n",
    "    z = 0.6745 * (vals - med) / mad\n",
    "    keep = np.abs(z) < k\n",
    "    return keep, med, mad"
   ]
  },
  {
   "cell_type": "code",
   "execution_count": 168,
   "id": "6ef5e8ce",
   "metadata": {},
   "outputs": [
    {
     "name": "stdout",
     "output_type": "stream",
     "text": [
      "[before] keep 22/25  rot(med±MAD)=2.74°±0.67°,  trans(med±MAD)=7.7±3.3 mm\n",
      "worst 10 by rot: [18 21 19 11 16 13 17  9 10 23] [9.06206128 8.45455773 6.7146368  3.69528519 3.40734024 3.37393143\n",
      " 3.33520922 3.27611586 3.26841405 3.07795924]\n",
      "worst 10 by trans: [21 19 17 18 14 11 15 12  2  0] [26.44055491 16.962263   12.52429411 12.22190582 11.71508111 11.39125239\n",
      " 11.03872797 10.59665001  9.61375907  9.39742703]\n"
     ]
    }
   ],
   "source": [
    "# 1) 현재 해 기준 프레임별 잔차\n",
    "deg, mm = per_frame_residuals_SE3(X4, Y4, A_list_inv, B_list_inv)\n",
    "idx = np.arange(len(deg))\n",
    "\n",
    "# 2) 회전/번역 각각 MAD 필터\n",
    "keep_r, r_med, r_mad = mad_filter(deg, k=3.5)\n",
    "keep_t, t_med, t_mad = mad_filter(mm,  k=3.5)\n",
    "keep = keep_r & keep_t\n",
    "\n",
    "print(f\"[before] keep {keep.sum()}/{len(keep)}  rot(med±MAD)={r_med:.2f}°±{r_mad:.2f}°,  trans(med±MAD)={t_med:.1f}±{t_mad:.1f} mm\")\n",
    "print(\"worst 10 by rot:\", idx[np.argsort(-deg)][:10], deg[np.argsort(-deg)][:10])\n",
    "print(\"worst 10 by trans:\", idx[np.argsort(-mm)][:10], mm[np.argsort(-mm)][:10])"
   ]
  },
  {
   "cell_type": "code",
   "execution_count": 169,
   "id": "00cdfd08",
   "metadata": {},
   "outputs": [
    {
     "name": "stdout",
     "output_type": "stream",
     "text": [
      "[after ] rot mean=2.27°, max=3.51°\n",
      "[after ] trans mean=6.5mm, max=11.0mm\n",
      "t_cam2base (inlier): [ 0.24881543 -0.0296964   0.55479992]\n"
     ]
    }
   ],
   "source": [
    "# 3) inlier만으로 재최적화\n",
    "A_in = [A_list_inv[i] for i in idx[keep]]\n",
    "B_in = [B_list_inv[i] for i in idx[keep]]\n",
    "\n",
    "X_in, Y_in, info_in = optimize_cam2base_PGO(\n",
    "    A_in,B_in,\n",
    "    R_cam2base_init=np.eye(3), t_cam2base_init=np.zeros(3),\n",
    "    max_nfev=2000\n",
    ")\n",
    "\n",
    "deg_in, mm_in = per_frame_residuals_SE3(X_in, Y_in, A_in, B_in)\n",
    "print(f\"[after ] rot mean={deg_in.mean():.2f}°, max={deg_in.max():.2f}°\")\n",
    "print(f\"[after ] trans mean={mm_in.mean():.1f}mm, max={mm_in.max():.1f}mm\")\n",
    "print(\"t_cam2base (inlier):\", X_in[:3,3])"
   ]
  },
  {
   "cell_type": "code",
   "execution_count": 170,
   "id": "f2b1b5cf",
   "metadata": {},
   "outputs": [],
   "source": [
    "out = {\"R_cam2base\": X_in[:3,:3].reshape(3,3).tolist(),\n",
    "       \"t_cam2base\": X_in[:3,3].flatten().tolist()}\n",
    "# cam2base_pgo_inliers.json 등으로 저장\n",
    "\n",
    "with open(f\"{MAIN_PATH}/cam2base_pgo_inliers.json\", \"w\") as f:\n",
    "    json.dump(out, f, indent=2)"
   ]
  },
  {
   "cell_type": "markdown",
   "id": "fb20b1fb",
   "metadata": {},
   "source": [
    "# Depth를 추가하여 잔여 오차 수정\n",
    "- 실험결과 depth미사용시와 큰 차이가 없으므로, 코드는 유지하지만 사용은 않기로 함."
   ]
  },
  {
   "cell_type": "code",
   "execution_count": 171,
   "id": "58a2b461",
   "metadata": {},
   "outputs": [],
   "source": [
    "# NEW: depth 평면 팩터 포함 PGO\n",
    "def optimize_cam2base_with_depth(\n",
    "    A_list, B_list,                      # 4x4 SE(3) lists (정의는 A=base->ee, B=target->camRGB 로 맞춘 것)\n",
    "    depth_points_list,                   # len=N, 각 원소 (Ki x 3) in DEPTH camera frame (테이블 inlier만)\n",
    "    n_b=np.array([0,0,1.0]), d_b=0.0,    # base 평면 (z=0이면 [0,0,1], d=0)\n",
    "    R_cam2base_init=np.eye(3), t_cam2base_init=np.zeros(3),\n",
    "    R_depth2rgb_init=np.eye(3), t_depth2rgb_init=np.zeros(3),\n",
    "    lambda_init=0.0,                     # depth scale 보정 (p_d'=(1+λ) p_d)\n",
    "    w_axxb=1.0, w_plane=3.0,             # 두 팩터 가중치\n",
    "    loss='soft_l1', f_scale=0.5, max_nfev=2000\n",
    "):\n",
    "    from scipy.optimize import least_squares\n",
    "    from scipy.spatial.transform import Rotation as Rotation\n",
    "    import numpy as np\n",
    "\n",
    "    N = len(A_list)\n",
    "    assert N == len(B_list) == len(depth_points_list) and N >= 3\n",
    "\n",
    "    # ---- 초기값: X=camRGB->base, Y=target->base, E=depth->rgb, λ ----\n",
    "    rX0 = Rotation.from_matrix(R_cam2base_init).as_rotvec(); tX0 = np.asarray(t_cam2base_init).reshape(3)\n",
    "    X0  = se3_from_Rt(R_cam2base_init, tX0)\n",
    "    Y0  = se3_mul(se3_mul(A_list[0], X0), B_list[0])\n",
    "    rY0 = Rotation.from_matrix(Y0[:3,:3]).as_rotvec();      tY0 = Y0[:3,3]\n",
    "    rE0 = Rotation.from_matrix(R_depth2rgb_init).as_rotvec(); tE0 = np.asarray(t_depth2rgb_init).reshape(3)\n",
    "    lam0 = np.array([lambda_init], float)\n",
    "\n",
    "    x0 = np.hstack([rX0, tX0, rY0, tY0, rE0, tE0, lam0])  # 19차원\n",
    "\n",
    "    n_b = np.asarray(n_b, float).reshape(3)\n",
    "    n_b = n_b / (np.linalg.norm(n_b)+1e-12)\n",
    "    d_b = float(d_b)\n",
    "\n",
    "    def unpack(x):\n",
    "        rX, tX = x[0:3],   x[3:6]\n",
    "        rY, tY = x[6:9],   x[9:12]\n",
    "        rE, tE = x[12:15], x[15:18]\n",
    "        lam    = x[18]\n",
    "        X = se3_from_Rt(Rotation.from_rotvec(rX).as_matrix(), tX)\n",
    "        Y = se3_from_Rt(Rotation.from_rotvec(rY).as_matrix(), tY)\n",
    "        E = se3_from_Rt(Rotation.from_rotvec(rE).as_matrix(), tE)\n",
    "        return X, Y, E, lam\n",
    "\n",
    "    def residual(x):\n",
    "        X, Y, E, lam = unpack(x)\n",
    "        Yin = se3_inv(Y)\n",
    "        res = []\n",
    "\n",
    "        # (1) Hand–Eye: Y^{-1} A X B ≈ I  → 6N잔차\n",
    "        for A,B in zip(A_list, B_list):\n",
    "            T = se3_mul(se3_mul(Yin, A), se3_mul(X, B))\n",
    "            e = log_se3(T)\n",
    "            res.append(np.sqrt(w_axxb)*e)\n",
    "\n",
    "        # (2) Depth 평면 잔차:  r = n_b^T ( X * ( E * ((1+λ)*p_d) ) ) + d_b\n",
    "        for Pd in depth_points_list:\n",
    "            if Pd is None or len(Pd)==0: \n",
    "                continue\n",
    "            P = np.asarray(Pd, float).reshape(-1,3)            # (K,3) in depth\n",
    "            P = (1.0 + lam) * P                                # scale 보정\n",
    "            # depth->rgb\n",
    "            Pr = (E[:3,:3] @ P.T) + E[:3,3:4]                  # (3,K)\n",
    "            # rgb->base (camRGB==X의 source)\n",
    "            Pb = (X[:3,:3] @ Pr) + X[:3,3:4]                   # (3,K)\n",
    "            r  = (n_b @ Pb + d_b).ravel()                      # (K,)\n",
    "            res.append(np.sqrt(w_plane)*r)\n",
    "\n",
    "        return np.hstack(res)\n",
    "\n",
    "    # solve\n",
    "    result = least_squares(residual, x0, method='trf', loss=loss, f_scale=f_scale, max_nfev=max_nfev)\n",
    "    X_opt, Y_opt, E_opt, lam_opt = unpack(result.x)\n",
    "    return X_opt, Y_opt, E_opt, lam_opt, result\n"
   ]
  },
  {
   "cell_type": "code",
   "execution_count": 172,
   "id": "108d8059",
   "metadata": {},
   "outputs": [],
   "source": [
    "# depth to point\n",
    "# NEW: depth 픽셀 → depth카메라 3D (m)\n",
    "def depth_to_points(depth_m, K, mask=None):\n",
    "    # depth_m: (H,W) in meters\n",
    "    fx, fy, cx, cy = K\n",
    "    if mask is None:\n",
    "        mask = depth_m > 0\n",
    "    ys, xs = np.nonzero(mask)\n",
    "    z = depth_m[ys, xs]\n",
    "    x = (xs - cx) * z / fx\n",
    "    y = (ys - cy) * z / fy\n",
    "    return np.stack([x,y,z], axis=1)  # (N,3)\n",
    "\n",
    "# NEW: RANSAC 평면 inlier (테이블만 추리기)\n",
    "def ransac_plane(P, thr=0.003, iters=200, seed=0):\n",
    "    if len(P) < 50: return P\n",
    "    rng = np.random.default_rng(seed)\n",
    "    best = []\n",
    "    for _ in range(iters):\n",
    "        idx = rng.choice(len(P), 3, replace=False)\n",
    "        p1,p2,p3 = P[idx]\n",
    "        n = np.cross(p2-p1, p3-p1)\n",
    "        nrm = np.linalg.norm(n)\n",
    "        if nrm < 1e-8: continue\n",
    "        n /= nrm\n",
    "        d = -n @ p1\n",
    "        dist = np.abs(P @ n + d)\n",
    "        inl = np.where(dist < thr)[0]\n",
    "        if len(inl) > len(best): best = inl\n",
    "    return P[best]\n"
   ]
  },
  {
   "cell_type": "code",
   "execution_count": 173,
   "id": "0f3203aa",
   "metadata": {},
   "outputs": [],
   "source": [
    "import open3d as o3d\n",
    "\n",
    "def segment_plane_from_depth(depth_m, K, roi=None, dist_thresh=0.003, iters=300):\n",
    "    \"\"\"\n",
    "    depth_m : (H,W) float [meter]\n",
    "    K       : (fx, fy, cx, cy)\n",
    "    roi     : (y0,y1,x0,x1) 영역만 사용 (테이블 고정이면 속도↑/강건↑)\n",
    "    return  : mask (H,W, bool), plane (a,b,c,d) with ||[a,b,c]||=1 in camera frame\n",
    "    \"\"\"\n",
    "    fx, fy, cx, cy = K\n",
    "    H, W = depth_m.shape\n",
    "\n",
    "    # 1) ROI 선택 + 유효 깊이\n",
    "    if roi is None:\n",
    "        y0,y1,x0,x1 = 0, H, 0, W\n",
    "    else:\n",
    "        y0,y1,x0,x1 = roi\n",
    "    D = depth_m[y0:y1, x0:x1]\n",
    "    valid = np.isfinite(D) & (D > 0)\n",
    "\n",
    "    if valid.sum() < 50:\n",
    "        mask = np.zeros_like(depth_m, dtype=bool)\n",
    "        return mask, None\n",
    "\n",
    "    # 2) depth → point cloud (camera/depth 좌표)\n",
    "    ys, xs = np.nonzero(valid)\n",
    "    z = D[ys, xs]\n",
    "    x = (xs + x0 - cx) * z / fx\n",
    "    y = (ys + y0 - cy) * z / fy\n",
    "    pts = np.stack([x, y, z], axis=1)\n",
    "\n",
    "    # 3) Open3D plane segmentation\n",
    "    pcd = o3d.geometry.PointCloud(o3d.utility.Vector3dVector(pts))\n",
    "    plane_model, inliers = pcd.segment_plane(distance_threshold=dist_thresh,\n",
    "                                             ransac_n=3,\n",
    "                                             num_iterations=iters)\n",
    "    # plane: ax+by+cz+d=0 (in camera frame), normal normalized by open3d\n",
    "    a,b,c,d = plane_model\n",
    "    mask = np.zeros_like(depth_m, dtype=bool)\n",
    "    # 인라이어 인덱스를 원래 이미지 좌표로 되돌리기\n",
    "    mask_idx = (ys + y0, xs + x0)\n",
    "    sel = np.zeros_like(ys, dtype=bool)\n",
    "    sel[inliers] = True\n",
    "    mask[mask_idx] = sel\n",
    "    return mask, (a,b,c,d)"
   ]
  },
  {
   "cell_type": "code",
   "execution_count": 175,
   "id": "99512d76",
   "metadata": {},
   "outputs": [],
   "source": [
    "import numpy as np\n",
    "from glob import glob\n",
    "\n",
    "# 0) 입력\n",
    "depth_paths = sorted(glob(f\"{MAIN_PATH}/depth/*.npy\"))\n",
    "# 카메라 내참수 \n",
    "Kd = (fx, fy, cx, cy) = (430.341, 430.341, 422.634, 244.632)\n",
    "\n",
    "# 테이블이 항상 하단 가운데라 가정한 ROI 예시(이미지 크기에 맞게 수정)\n",
    "roi = None\n",
    "\n",
    "# 1) 각 프레임에서 테이블 인라이어 3D점 만들기\n",
    "depth_points_list = []\n",
    "for dp in depth_paths:\n",
    "    depth_m = np.load(dp).astype(np.float32)*0.001   # (H,W), meter\n",
    "    # 자동 평면 분할 (Open3D or Numpy 버전 선택)\n",
    "    mask, plane_cam = segment_plane_from_depth(depth_m, Kd, roi=roi,\n",
    "                                               dist_thresh=0.003, iters=300)\n",
    "    # 테이블 픽셀만 3D로\n",
    "    ys, xs = np.nonzero(mask)\n",
    "    z = depth_m[ys, xs]\n",
    "    x = (xs - cx) * z / fx\n",
    "    y = (ys - cy) * z / fy\n",
    "    P = np.stack([x,y,z], axis=1)     # (N,3) depth(camera) frame\n",
    "\n",
    "    # 너무 많으면 샘플링(속도/수렴 안정 위해)\n",
    "    if len(P) > 2000:\n",
    "        step = len(P) // 1000\n",
    "        P = P[::step]\n",
    "    depth_points_list.append(P)\n"
   ]
  },
  {
   "cell_type": "code",
   "execution_count": 176,
   "id": "042c2701",
   "metadata": {},
   "outputs": [
    {
     "name": "stdout",
     "output_type": "stream",
     "text": [
      "t_cam2base: [ 0.24881023 -0.02969705  0.55480214]\n",
      "lambda (depth scale): -0.9999999999769016\n",
      "T_depth->rgb:\n",
      " [[ 0.01735516  0.99894172  0.04259379 -0.3529471 ]\n",
      " [-0.99961228  0.01826299 -0.02101778  0.01946257]\n",
      " [-0.02177343 -0.04221251  0.99887137  0.56383583]\n",
      " [ 0.          0.          0.          1.        ]]\n",
      "cost: 0.019474820520932745  nfev: 10\n",
      "[after depth] rot mean=2.27°, max=3.51°\n",
      "[after depth] trans mean=6.5mm, max=11.0mm\n"
     ]
    }
   ],
   "source": [
    "depth_points_in = [depth_points_list[i] for i in idx[keep]]\n",
    "\n",
    "R_init = R_cam2base_init      # table_normal_fix의 R 추천\n",
    "t_init = np.zeros(3)\n",
    "R_d2r_init = np.eye(3); t_d2r_init = np.zeros(3)\n",
    "\n",
    "# 최적화\n",
    "X_opt, Y_opt, E_opt, lam_opt, info = optimize_cam2base_with_depth(\n",
    "    A_in, B_in,\n",
    "    depth_points_list=depth_points_in,\n",
    "    n_b=np.array([0,0,1.0]), d_b=0.0,      # base의 테이블 평면이 z=0일 때\n",
    "    R_cam2base_init=R_init, t_cam2base_init=t_init,\n",
    "    R_depth2rgb_init=R_d2r_init, t_depth2rgb_init=t_d2r_init,\n",
    "    lambda_init=0.0,\n",
    "    w_axxb=1.0, w_plane=3.0,               # 평면 가중 2~5 범위로 튜닝\n",
    "    loss='soft_l1', f_scale=0.5, max_nfev=2000\n",
    ")\n",
    "\n",
    "print(\"t_cam2base:\", X_opt[:3,3])\n",
    "print(\"lambda (depth scale):\", lam_opt)\n",
    "print(\"T_depth->rgb:\\n\", E_opt)\n",
    "print(\"cost:\", info.cost, \" nfev:\", info.nfev)\n",
    "\n",
    "# 핸드아이 잔차(기존 함수 재사용)\n",
    "deg_in, mm_in = per_frame_residuals_SE3(X_opt, Y_opt, A_in, B_in)\n",
    "print(f\"[after depth] rot mean={deg_in.mean():.2f}°, max={deg_in.max():.2f}°\")\n",
    "print(f\"[after depth] trans mean={mm_in.mean():.1f}mm, max={mm_in.max():.1f}mm\")\n"
   ]
  },
  {
   "cell_type": "code",
   "execution_count": 177,
   "id": "a97869eb",
   "metadata": {},
   "outputs": [],
   "source": [
    "out = {\"R_cam2base\": X_opt[:3,:3].reshape(3,3).tolist(),\n",
    "       \"t_cam2base\": X_opt[:3,3].flatten().tolist()}\n",
    "# cam2base_pgo_inliers.json 등으로 저장\n",
    "\n",
    "with open(f\"{MAIN_PATH}/cam2base_pgo_inliers_depth.json\", \"w\") as f:\n",
    "    json.dump(out, f, indent=2)"
   ]
  },
  {
   "cell_type": "code",
   "execution_count": 148,
   "id": "8b0dda61",
   "metadata": {},
   "outputs": [
    {
     "name": "stdout",
     "output_type": "stream",
     "text": [
      "frames: 49\n",
      "pts/frame: [1016, 1013, 1006, 1005, 1012, 1005, 1003, 1006, 1001, 1003, 1001, 1007, 1002, 1002, 1001, 1003, 1004, 1004, 1006, 1003, 1001, 1006, 1003, 1003, 1005, 1001, 1006, 1006, 1003, 1001, 1003, 1002, 1005, 1002, 1001, 1007, 1001, 1004, 1004, 1003, 1006, 1003, 1004, 1008, 1001, 1002, 1010, 1001, 1002]\n",
      "total pts: 49207\n"
     ]
    }
   ],
   "source": [
    "# ----- 깊이 진단 ----- #\n",
    "print(\"frames:\", len(depth_points_in))\n",
    "print(\"pts/frame:\", [len(P) if P is not None else 0 for P in depth_points_in])\n",
    "print(\"total pts:\", sum(len(P) for P in depth_points_in if P is not None))"
   ]
  },
  {
   "cell_type": "code",
   "execution_count": 178,
   "id": "37ad079e",
   "metadata": {},
   "outputs": [
    {
     "name": "stdout",
     "output_type": "stream",
     "text": [
      "plane resid: mean=-535.98 mm, std=17.45 mm, max=584.26 mm\n"
     ]
    }
   ],
   "source": [
    "def plane_residual_stats(X, E, n_b, d_b, depth_points_list):\n",
    "    import numpy as np\n",
    "    all_r = []\n",
    "    for Pd in depth_points_list:\n",
    "        if Pd is None or len(Pd)==0: continue\n",
    "        Pr = (E[:3,:3] @ Pd.T) + E[:3,3:4]\n",
    "        Pb = (X[:3,:3] @ Pr) + X[:3,3:4]\n",
    "        r  = (n_b @ Pb + d_b).ravel()\n",
    "        all_r.append(r)\n",
    "    r = np.concatenate(all_r) if all_r else np.array([])\n",
    "    if r.size:\n",
    "        print(f\"plane resid: mean={r.mean()*1000:.2f} mm, std={r.std()*1000:.2f} mm, max={np.max(np.abs(r))*1000:.2f} mm\")\n",
    "    else:\n",
    "        print(\"plane resid: (no points)\")\n",
    "        \n",
    "plane_residual_stats(\n",
    "    X_opt,\n",
    "    E_opt,\n",
    "    np.array([0,0,1.0]),  # n_b\n",
    "    0.0,                  # d_b\n",
    "    depth_points_in       # 각 프레임 테이블 포인트 리스트\n",
    ")"
   ]
  },
  {
   "cell_type": "code",
   "execution_count": 179,
   "id": "fa6f9f25",
   "metadata": {},
   "outputs": [
    {
     "name": "stdout",
     "output_type": "stream",
     "text": [
      "estimated base-plane: [-0.07224822  0.04481629 -0.99637929] -0.5127711577176425\n"
     ]
    }
   ],
   "source": [
    "def fit_plane_in_base(X, E, depth_points_list, sample=20000, seed=0):\n",
    "    import numpy as np\n",
    "    rng = np.random.default_rng(seed)\n",
    "    pts = []\n",
    "    for Pd in depth_points_list:\n",
    "        if Pd is None or len(Pd)==0: continue\n",
    "        # depth->rgb\n",
    "        Pr = (E[:3,:3] @ Pd.T) + E[:3,3:4]\n",
    "        # rgb->base\n",
    "        Pb = (X[:3,:3] @ Pr) + X[:3,3:4]\n",
    "        pts.append(Pb.T)\n",
    "    if not pts: return None, None\n",
    "    P = np.vstack(pts)\n",
    "    if len(P) > sample:\n",
    "        idx = rng.choice(len(P), sample, replace=False)\n",
    "        P = P[idx]\n",
    "    # 평면 n,d (ax+by+cz+d=0), ||n||=1\n",
    "    # SVD로 n 추정\n",
    "    Pc = P - P.mean(axis=0, keepdims=True)\n",
    "    U,S,Vt = np.linalg.svd(Pc)\n",
    "    n = Vt[-1]                   # 가장 작은 고유벡터 ~ 법선\n",
    "    n = n / (np.linalg.norm(n)+1e-12)\n",
    "    d = -n @ P.mean(axis=0)\n",
    "    return n, d\n",
    "\n",
    "# 사용 예\n",
    "n_b_est, d_b_est = fit_plane_in_base(X_opt, E_opt, depth_points_in)\n",
    "print(\"estimated base-plane:\", n_b_est, d_b_est)\n",
    "# n_b_est가 거의 [0,0,±1]이면 테이블이 base z축과 정렬. d_b_est가 z=0이면 0 근처.\n"
   ]
  },
  {
   "cell_type": "code",
   "execution_count": 180,
   "id": "e4fa53fe",
   "metadata": {},
   "outputs": [
    {
     "name": "stdout",
     "output_type": "stream",
     "text": [
      "t_cam2base: [ 0.2471848  -0.03016809  0.54781825]\n",
      "T_depth->rgb:\n",
      " [[ 9.99733772e-01  3.26958845e-04  2.30711367e-02  2.03233327e-08]\n",
      " [-8.39147118e-04  9.99753326e-01  2.21942042e-02  3.96312622e-08]\n",
      " [-2.30581891e-02 -2.22076556e-02  9.99487439e-01  7.94116743e-07]\n",
      " [ 0.00000000e+00  0.00000000e+00  0.00000000e+00  1.00000000e+00]]\n",
      "cost: 0.05117989737430939  nfev: 12\n",
      "[after depth] rot mean=2.27°, max=3.51°\n",
      "[after depth] trans mean=6.7mm, max=11.2mm\n"
     ]
    }
   ],
   "source": [
    "# bounds가 들어간 버전 (핵심만)\n",
    "def optimize_cam2base_with_depth_bounded(\n",
    "    A_list, B_list, depth_points_list, n_b, d_b,\n",
    "    R_cam2base_init, t_cam2base_init,\n",
    "    R_depth2rgb_init, t_depth2rgb_init,\n",
    "    w_axxb=1.0, w_plane=2.0, f_scale=0.5, max_nfev=2000\n",
    "):\n",
    "    from scipy.optimize import least_squares\n",
    "    from scipy.spatial.transform import Rotation as Rotation\n",
    "    import numpy as np\n",
    "\n",
    "    # x = [rX(3) tX(3) rY(3) tY(3) rE(3) tE(3)]  ← λ 제외\n",
    "    rX0 = Rotation.from_matrix(R_cam2base_init).as_rotvec(); tX0 = np.zeros(3)\n",
    "    X0  = se3_from_Rt(R_cam2base_init, tX0)\n",
    "    Y0  = se3_mul(se3_mul(A_list[0], X0), B_list[0])\n",
    "    rY0 = Rotation.from_matrix(Y0[:3,:3]).as_rotvec(); tY0 = Y0[:3,3]\n",
    "    rE0 = Rotation.from_matrix(R_depth2rgb_init).as_rotvec(); tE0 = t_depth2rgb_init\n",
    "\n",
    "    x0 = np.hstack([rX0, tX0, rY0, tY0, rE0, tE0])\n",
    "\n",
    "    def unpack(x):\n",
    "        rX,tX = x[0:3], x[3:6]\n",
    "        rY,tY = x[6:9], x[9:12]\n",
    "        rE,tE = x[12:15], x[15:18]\n",
    "        X = se3_from_Rt(Rotation.from_rotvec(rX).as_matrix(), tX)\n",
    "        Y = se3_from_Rt(Rotation.from_rotvec(rY).as_matrix(), tY)\n",
    "        E = se3_from_Rt(Rotation.from_rotvec(rE).as_matrix(), tE)\n",
    "        return X,Y,E\n",
    "\n",
    "    def residual(x):\n",
    "        X,Y,E = unpack(x)\n",
    "        Yin = se3_inv(Y)\n",
    "        res = []\n",
    "        # AX=XB\n",
    "        for A,B in zip(A_list, B_list):\n",
    "            T = se3_mul(se3_mul(Yin, A), se3_mul(X, B))\n",
    "            res.append(log_se3(T))\n",
    "        # plane (lam=0)\n",
    "        for Pd in depth_points_list:\n",
    "            if Pd is None or len(Pd)==0: continue\n",
    "            Pr = (E[:3,:3] @ Pd.T) + E[:3,3:4]\n",
    "            Pb = (X[:3,:3] @ Pr) + X[:3,3:4]\n",
    "            r  = (n_b @ Pb + d_b).ravel()\n",
    "            res.append(np.sqrt(w_plane)*r)\n",
    "            \n",
    "        # E prior (작게 움직이도록)\n",
    "        rX,tX,rY,tY,rE,tE = x[0:3],x[3:6],x[6:9],x[9:12],x[12:15],x[15:18]\n",
    "        res.append(0.1 * rE)          # ~5–6°\n",
    "        res.append(100.0 * tE)        # 1 cm -> residual=1\n",
    "        return np.hstack(res)\n",
    "\n",
    "    # 각 성분 bounds (rE는 성분별 ±0.1rad≈5.7°, tE는 ±0.03m)\n",
    "    lo = np.array([-np.inf]*12 + [-0.1, -0.1, -0.1, -0.03, -0.03, -0.03])\n",
    "    hi = np.array([ np.inf]*12 + [ 0.1,  0.1,  0.1,  0.03,  0.03,  0.03])\n",
    "\n",
    "    result = least_squares(residual, x0, method='trf',\n",
    "                           loss='soft_l1', f_scale=f_scale,\n",
    "                           bounds=(lo,hi), max_nfev=max_nfev)\n",
    "    return *unpack(result.x), result\n",
    "\n",
    "\n",
    "Xb, Yb, Eb, info = optimize_cam2base_with_depth_bounded(\n",
    "    A_in, B_in, depth_points_in,\n",
    "    n_b=np.array([0,0,1.0]), d_b=0.0,\n",
    "    R_cam2base_init=R_cam2base_init, t_cam2base_init=np.zeros(3),\n",
    "    R_depth2rgb_init=np.eye(3), t_depth2rgb_init=np.zeros(3),\n",
    "    w_axxb=1.0, w_plane=2.0, max_nfev=2000\n",
    ")\n",
    "\n",
    "print(\"t_cam2base:\", Xb[:3,3])\n",
    "print(\"T_depth->rgb:\\n\", Eb)\n",
    "print(\"cost:\", info.cost, \" nfev:\", info.nfev)\n",
    "\n",
    "# 핸드아이 잔차(기존 함수 재사용)\n",
    "deg_in, mm_in = per_frame_residuals_SE3(Xb, Yb, A_in, B_in)\n",
    "print(f\"[after depth] rot mean={deg_in.mean():.2f}°, max={deg_in.max():.2f}°\")\n",
    "print(f\"[after depth] trans mean={mm_in.mean():.1f}mm, max={mm_in.max():.1f}mm\")\n"
   ]
  },
  {
   "cell_type": "code",
   "execution_count": 181,
   "id": "510a3e2a",
   "metadata": {},
   "outputs": [],
   "source": [
    "out = {\"R_cam2base\": Xb[:3,:3].reshape(3,3).tolist(),\n",
    "       \"t_cam2base\": Xb[:3,3].flatten().tolist()}\n",
    "# cam2base_pgo_inliers.json 등으로 저장\n",
    "\n",
    "with open(f\"{MAIN_PATH}/cam2base_pgo_inliers_depth_bounded.json\", \"w\") as f:\n",
    "    json.dump(out, f, indent=2)"
   ]
  },
  {
   "cell_type": "code",
   "execution_count": null,
   "id": "b60c9624",
   "metadata": {},
   "outputs": [],
   "source": []
  },
  {
   "cell_type": "code",
   "execution_count": null,
   "id": "867b04ce",
   "metadata": {},
   "outputs": [],
   "source": []
  },
  {
   "cell_type": "code",
   "execution_count": null,
   "id": "411c1427",
   "metadata": {},
   "outputs": [],
   "source": []
  }
 ],
 "metadata": {
  "kernelspec": {
   "display_name": "llm_env",
   "language": "python",
   "name": "python3"
  },
  "language_info": {
   "codemirror_mode": {
    "name": "ipython",
    "version": 3
   },
   "file_extension": ".py",
   "mimetype": "text/x-python",
   "name": "python",
   "nbconvert_exporter": "python",
   "pygments_lexer": "ipython3",
   "version": "3.10.12"
  }
 },
 "nbformat": 4,
 "nbformat_minor": 5
}

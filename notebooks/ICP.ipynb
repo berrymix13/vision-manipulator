{
 "cells": [
  {
   "cell_type": "code",
   "execution_count": 21,
   "id": "a565bfb4",
   "metadata": {},
   "outputs": [],
   "source": [
    "import open3d as o3d\n",
    "import numpy as np\n",
    "import json\n",
    "from glob import glob\n",
    "import os\n",
    "import cv2"
   ]
  },
  {
   "cell_type": "markdown",
   "id": "609b7c5a",
   "metadata": {},
   "source": [
    "# 1. Target PCD용 pcd 정합"
   ]
  },
  {
   "cell_type": "markdown",
   "id": "e0ad41d4",
   "metadata": {},
   "source": [
    "### (1) 파일변환"
   ]
  },
  {
   "cell_type": "code",
   "execution_count": 7,
   "id": "6e2841a9",
   "metadata": {},
   "outputs": [],
   "source": [
    "rgb_paths = glob(\"/home/ros/llm_robot/data/Calibration/Eye-in-Hand2/color/*.jpg\")\n",
    "depth_paths = glob(\"/home/ros/llm_robot/data/Calibration/Eye-in-Hand2/depth/*.npy\")\n",
    "intr_paths = glob(\"/home/ros/llm_robot/data/Calibration/Eye-in-Hand2/intrinsics/*.json\")\n",
    "pose_paths = glob(\"/home/ros/llm_robot/data/Calibration/Eye-in-Hand2/poses/*.json\")\n",
    "cam2ee_path = \"/home/ros/llm_robot/data/Calibration/Eye-in-Hand2/ee2cam.json\""
   ]
  },
  {
   "cell_type": "code",
   "execution_count": 23,
   "id": "a8c8d4af",
   "metadata": {},
   "outputs": [
    {
     "data": {
      "text/plain": [
       "['/home/ros/llm_robot/data/Calibration/Eye-in-Hand2/depth/converted_png/2025-07-28_09-22-20.png',\n",
       " '/home/ros/llm_robot/data/Calibration/Eye-in-Hand2/depth/converted_png/2025-07-28_09-20-49.png',\n",
       " '/home/ros/llm_robot/data/Calibration/Eye-in-Hand2/depth/converted_png/2025-07-28_09-20-27.png',\n",
       " '/home/ros/llm_robot/data/Calibration/Eye-in-Hand2/depth/converted_png/2025-07-28_09-20-20.png',\n",
       " '/home/ros/llm_robot/data/Calibration/Eye-in-Hand2/depth/converted_png/2025-07-28_09-19-06.png']"
      ]
     },
     "execution_count": 23,
     "metadata": {},
     "output_type": "execute_result"
    }
   ],
   "source": [
    "depth_npy_dir = \"/home/ros/llm_robot/data/Calibration/Eye-in-Hand2/depth\"\n",
    "output_dir = os.path.join(depth_npy_dir, \"converted_png\")\n",
    "os.makedirs(output_dir, exist_ok=True)\n",
    "\n",
    "converted_files = []\n",
    "for npy_path in depth_paths:\n",
    "    try:\n",
    "        depth = np.load(npy_path).astype(np.uint16)\n",
    "        filename = os.path.splitext(os.path.basename(npy_path))[0] + \".png\"\n",
    "        png_path = os.path.join(output_dir, filename)\n",
    "        cv2.imwrite(png_path, depth)\n",
    "        converted_files.append(png_path)\n",
    "    except Exception as e:\n",
    "        print(f\"❌ {npy_path} 변환 실패: {e}\")\n",
    "\n",
    "converted_files[:5] "
   ]
  },
  {
   "cell_type": "code",
   "execution_count": 26,
   "id": "ed378930",
   "metadata": {},
   "outputs": [],
   "source": [
    "def rgbd_to_pcd(rgb_path, depth_path, intrinsic_path, depth_scale=1000.0, depth_trunc=1.5):\n",
    "    color_raw = o3d.io.read_image(rgb_path)\n",
    "    depth_raw = o3d.io.read_image(depth_path)\n",
    "\n",
    "    with open(intrinsic_path, \"r\") as f:\n",
    "        intr_data = json.load(f)[\"color_intrinsics\"]\n",
    "        \n",
    "    width = intr_data[\"width\"]\n",
    "    height = intr_data[\"height\"]\n",
    "    fx = intr_data[\"fx\"]\n",
    "    fy = intr_data[\"fy\"]\n",
    "    cx = intr_data[\"ppx\"]\n",
    "    cy = intr_data[\"ppy\"]\n",
    "        \n",
    "    intrinsic = o3d.camera.PinholeCameraIntrinsic(\n",
    "        width=width, height=height, fx=fx, fy=fy, cx=cx, cy=cy\n",
    "    )\n",
    "\n",
    "    rgbd = o3d.geometry.RGBDImage.create_from_color_and_depth(\n",
    "        color_raw, depth_raw,\n",
    "        depth_scale=depth_scale,\n",
    "        depth_trunc=depth_trunc,\n",
    "        convert_rgb_to_intensity=False\n",
    "    )\n",
    "    pcd = o3d.geometry.PointCloud.create_from_rgbd_image(rgbd, intrinsic)\n",
    "    return pcd"
   ]
  },
  {
   "cell_type": "code",
   "execution_count": 17,
   "id": "b36b82a3",
   "metadata": {},
   "outputs": [
    {
     "data": {
      "text/plain": [
       "848"
      ]
     },
     "execution_count": 17,
     "metadata": {},
     "output_type": "execute_result"
    }
   ],
   "source": [
    "with open(intr_paths[0], \"r\") as f:\n",
    "    intr_data = json.load(f)\n",
    "    \n",
    "intr_data[\"depth_intrinsics\"][\"width\"]"
   ]
  },
  {
   "cell_type": "markdown",
   "id": "b480d58e",
   "metadata": {},
   "source": [
    "### (2) 여러 프레임을 T_cam2base로 정렬하여 병합"
   ]
  },
  {
   "cell_type": "code",
   "execution_count": 4,
   "id": "7307577b",
   "metadata": {},
   "outputs": [],
   "source": [
    "def merge_pcds_with_transforms(pcd_list, transform_list):\n",
    "    merged = o3d.geometry.PointCloud()\n",
    "    for pcd, T in zip(pcd_list, transform_list):\n",
    "        pcd_transformed = pcd.transform(T)\n",
    "        merged += pcd_transformed\n",
    "    return merged"
   ]
  },
  {
   "cell_type": "markdown",
   "id": "13fb5b06",
   "metadata": {},
   "source": [
    "### (3) T_cam2base 계산"
   ]
  },
  {
   "cell_type": "code",
   "execution_count": 10,
   "id": "78ae0a9d",
   "metadata": {},
   "outputs": [],
   "source": [
    "with open(cam2ee_path, \"r\") as f:\n",
    "    data = json.load(f)\n",
    "R_ee2cam = np.array(data[\"R_ee2cam\"])\n",
    "t_ee2cam = np.array(data[\"t_ee2cam\"]).reshape(3, 1)\n",
    "\n",
    "T_ee2cam = np.eye(4)\n",
    "T_ee2cam[:3, :3] = R_ee2cam\n",
    "T_ee2cam[:3, 3] = t_ee2cam.flatten()\n",
    "\n",
    "T_cam2ee = np.linalg.inv(T_ee2cam)"
   ]
  },
  {
   "cell_type": "code",
   "execution_count": 11,
   "id": "9ec47991",
   "metadata": {},
   "outputs": [],
   "source": [
    "def pose_to_transform(pose_file):\n",
    "    with open(pose_file, \"r\") as f:\n",
    "        pose = json.load(f)\n",
    "    R_base2ee = np.array(pose[\"R_base2ee\"])\n",
    "    t_base2ee = np.array(pose[\"t_base2ee\"]).reshape(3, 1)\n",
    "    T_base2ee = np.eye(4)\n",
    "    T_base2ee[:3, :3] = R_base2ee\n",
    "    T_base2ee[:3, 3] = t_base2ee.flatten()\n",
    "    return T_base2ee @ T_cam2ee  # T_cam2base = T_base2ee * T_cam2ee"
   ]
  },
  {
   "cell_type": "code",
   "execution_count": 28,
   "id": "8c3b9b3c",
   "metadata": {},
   "outputs": [
    {
     "data": {
      "text/plain": [
       "'✅ 평균 기준 PCD 저장 완료: ./merged_target_pcd.ply'"
      ]
     },
     "execution_count": 28,
     "metadata": {},
     "output_type": "execute_result"
    }
   ],
   "source": [
    "pcds = []\n",
    "T_list = []\n",
    "for rgb, depth, intr, pose in zip(rgb_paths, converted_files, intr_paths, pose_paths):\n",
    "    try:\n",
    "        pcd = rgbd_to_pcd(rgb, depth, intr)\n",
    "        T = pose_to_transform(pose)\n",
    "        pcds.append(pcd)\n",
    "        T_list.append(T)\n",
    "    except Exception as e:\n",
    "        print(f\"❌ Failed to load {rgb}: {e}\")\n",
    "\n",
    "if pcds:\n",
    "    merged_pcd = merge_pcds_with_transforms(pcds, T_list)\n",
    "    save_path = \"./merged_target_pcd.ply\"\n",
    "    o3d.io.write_point_cloud(save_path, merged_pcd)\n",
    "    result = f\"✅ 평균 기준 PCD 저장 완료: {save_path}\"\n",
    "else:\n",
    "    result = \"❌ 변환 가능한 PCD가 없습니다.\"\n",
    "    \n",
    "result"
   ]
  },
  {
   "cell_type": "markdown",
   "id": "0bb86da5",
   "metadata": {},
   "source": [
    "# 2. 관찰 PC 생성"
   ]
  },
  {
   "cell_type": "code",
   "execution_count": 31,
   "id": "985fbfc4",
   "metadata": {},
   "outputs": [
    {
     "data": {
      "text/plain": [
       "True"
      ]
     },
     "execution_count": 31,
     "metadata": {},
     "output_type": "execute_result"
    }
   ],
   "source": [
    "pcd = rgbd_to_pcd(rgb_paths[0], converted_files[0], intr_paths[0])\n",
    "o3d.io.write_point_cloud(\"./camera_observed.ply\", pcd)"
   ]
  },
  {
   "cell_type": "markdown",
   "id": "609e8a90",
   "metadata": {},
   "source": [
    "# 3. ICP 최적화 (Point-to-Point ICP)"
   ]
  },
  {
   "cell_type": "code",
   "execution_count": 32,
   "id": "27e0c744",
   "metadata": {},
   "outputs": [],
   "source": [
    "# === 초기 Tsai-Lenz 기반 ee2cam 변환행렬 불러오기 ===\n",
    "T_ee2cam = np.eye(4)\n",
    "T_ee2cam[:3, :3] = R_ee2cam  # Tsai-Lenz 결과\n",
    "T_ee2cam[:3, 3] = t_ee2cam.flatten()\n",
    "\n",
    "# === PCD 불러오기 ===\n",
    "source_pcd = o3d.io.read_point_cloud(\"camera_observed.ply\")  # EE 위치에서 관측한 것\n",
    "target_pcd = o3d.io.read_point_cloud(\"merged_target_pcd.ply\")  # 기준 Target\n",
    "\n",
    "# === 초기 정렬 적용 ===\n",
    "source_pcd.transform(T_ee2cam)\n",
    "\n",
    "# === ICP 보정 ===\n",
    "threshold = 0.01  # 1cm 허용 오차\n",
    "icp_result = o3d.pipelines.registration.registration_icp(\n",
    "    source_pcd, target_pcd,\n",
    "    threshold,\n",
    "    np.eye(4),\n",
    "    o3d.pipelines.registration.TransformationEstimationPointToPoint()\n",
    ")\n",
    "\n",
    "# === 최종 보정 행렬 ===\n",
    "T_icp = icp_result.transformation\n",
    "T_ee2cam_refined = T_icp @ T_ee2cam\n",
    "\n",
    "# === 최종 R, t 추출 ===\n",
    "R_final = T_ee2cam_refined[:3, :3]\n",
    "t_final = T_ee2cam_refined[:3, 3].reshape(3, 1)"
   ]
  },
  {
   "cell_type": "code",
   "execution_count": 34,
   "id": "4543d73f",
   "metadata": {},
   "outputs": [],
   "source": [
    "result = {\n",
    "    \"R_cam2ee\": R_final.tolist(),\n",
    "    \"t_cam2ee\": t_final.flatten().tolist()  # 1D 리스트로 저장\n",
    "}\n",
    "\n",
    "# 저장\n",
    "with open(\"optimized_cam2ee_icp.json\", \"w\") as f:\n",
    "    json.dump(result, f, indent=2)"
   ]
  },
  {
   "cell_type": "markdown",
   "id": "1c379475",
   "metadata": {},
   "source": [
    "# 4.Point-to-Plane ICP"
   ]
  },
  {
   "cell_type": "code",
   "execution_count": 37,
   "id": "0c935a0b",
   "metadata": {},
   "outputs": [
    {
     "name": "stdout",
     "output_type": "stream",
     "text": [
      "✅ ICP fitness: 0.0\n",
      "✅ ICP inlier RMSE: 0.0\n",
      "✅ 보정 행렬 (delta T):\n",
      "[[1. 0. 0. 0.]\n",
      " [0. 1. 0. 0.]\n",
      " [0. 0. 1. 0.]\n",
      " [0. 0. 0. 1.]]\n"
     ]
    }
   ],
   "source": [
    "# === ICP 실행 ===\n",
    "threshold = 0.01  # 1cm\n",
    "icp_result = o3d.pipelines.registration.registration_icp(\n",
    "    source_pcd, target_pcd,\n",
    "    threshold,\n",
    "    np.eye(4),  # 이미 정렬했기 때문에 초기값은 identity\n",
    "    o3d.pipelines.registration.TransformationEstimationPointToPlane()\n",
    ")\n",
    "\n",
    "# === 결과 확인 ===\n",
    "print(\"✅ ICP fitness:\", icp_result.fitness)\n",
    "print(\"✅ ICP inlier RMSE:\", icp_result.inlier_rmse)\n",
    "print(\"✅ 보정 행렬 (delta T):\")\n",
    "print(icp_result.transformation)"
   ]
  },
  {
   "cell_type": "code",
   "execution_count": 38,
   "id": "fcb48545",
   "metadata": {},
   "outputs": [
    {
     "name": "stdout",
     "output_type": "stream",
     "text": [
      "✅ 저장 완료: refined_cam2ee_icp.json\n"
     ]
    }
   ],
   "source": [
    "# === 최종 보정된 cam2ee = ΔT × 기존 T_cam2ee\n",
    "T_refined = icp_result.transformation @ T_cam2ee\n",
    "R_final = T_refined[:3, :3]\n",
    "t_final = T_refined[:3, 3].reshape(3, 1)\n",
    "\n",
    "# === JSON 저장\n",
    "result = {\n",
    "    \"R_cam2ee\": R_final.tolist(),\n",
    "    \"t_cam2ee\": t_final.flatten().tolist()\n",
    "}\n",
    "with open(\"refined_cam2ee_icp.json\", \"w\") as f:\n",
    "    json.dump(result, f, indent=2)\n",
    "print(\"✅ 저장 완료: refined_cam2ee_icp.json\")"
   ]
  },
  {
   "cell_type": "markdown",
   "id": "4e27fb74",
   "metadata": {},
   "source": [
    "### 번외. PCD 시각화"
   ]
  },
  {
   "cell_type": "code",
   "execution_count": 39,
   "id": "47eaf232",
   "metadata": {},
   "outputs": [],
   "source": [
    "def visualize_ply(filepath):\n",
    "    \"\"\"\n",
    "    단일 PLY 파일을 시각화하는 함수\n",
    "    \"\"\"\n",
    "    pcd = o3d.io.read_point_cloud(filepath)\n",
    "    print(f\"Loaded point cloud: {pcd}\")\n",
    "    o3d.visualization.draw_geometries([pcd])\n",
    "\n",
    "def animate_ply_sequence(directory, num_frames, basename=\"frame\", ext=\".ply\", delay=0.1):\n",
    "    \"\"\"\n",
    "    연속된 ply 파일 시퀀스를 애니메이션으로 시각화하는 함수.\n",
    "    예: frame0000.ply, frame0001.ply, ...\n",
    "    - directory: 파일 경로\n",
    "    - num_frames: 총 프레임 수\n",
    "    - basename: 파일명 기준 이름\n",
    "    - ext: 확장자\n",
    "    - delay: 프레임 간 대기 시간 (초)\n",
    "    \"\"\"\n",
    "    vis = o3d.visualization.Visualizer()\n",
    "    vis.create_window()\n",
    "    geometry = o3d.geometry.PointCloud()\n",
    "    vis.add_geometry(geometry)\n",
    "\n",
    "    for i in range(num_frames):\n",
    "        filename = f\"{directory}/{basename}{i:04d}{ext}\"\n",
    "        pcd = o3d.io.read_point_cloud(filename)\n",
    "        geometry.points = pcd.points\n",
    "        if pcd.has_colors():\n",
    "            geometry.colors = pcd.colors\n",
    "        vis.update_geometry(geometry)\n",
    "        vis.poll_events()\n",
    "        vis.update_renderer()\n",
    "        o3d.utility.sleep(delay)\n",
    "\n",
    "    vis.destroy_window()"
   ]
  },
  {
   "cell_type": "code",
   "execution_count": 62,
   "id": "fb90942e",
   "metadata": {},
   "outputs": [
    {
     "name": "stdout",
     "output_type": "stream",
     "text": [
      "Loaded point cloud: PointCloud with 330758 points.\n"
     ]
    }
   ],
   "source": [
    "visualize_ply(\"/home/ros/llm_robot/data/Calibration/Eye-in-Hand2/camera_observed.ply\")"
   ]
  }
 ],
 "metadata": {
  "kernelspec": {
   "display_name": "llm_env",
   "language": "python",
   "name": "python3"
  },
  "language_info": {
   "codemirror_mode": {
    "name": "ipython",
    "version": 3
   },
   "file_extension": ".py",
   "mimetype": "text/x-python",
   "name": "python",
   "nbconvert_exporter": "python",
   "pygments_lexer": "ipython3",
   "version": "3.10.12"
  }
 },
 "nbformat": 4,
 "nbformat_minor": 5
}

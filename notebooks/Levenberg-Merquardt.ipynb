{
 "cells": [
  {
   "cell_type": "code",
   "execution_count": 2,
   "id": "8e908a75",
   "metadata": {},
   "outputs": [],
   "source": [
    "import numpy as np\n",
    "import json\n",
    "import time\n",
    "import cv2\n",
    "from glob import glob\n",
    "\n",
    "from scipy.spatial.transform import Rotation as R\n",
    "from scipy.optimize import least_squares"
   ]
  },
  {
   "cell_type": "markdown",
   "id": "07191cab",
   "metadata": {},
   "source": [
    "# 1. 초기 R, t Load"
   ]
  },
  {
   "cell_type": "code",
   "execution_count": 3,
   "id": "9e6389dc",
   "metadata": {},
   "outputs": [],
   "source": [
    "with open(\"/home/ros/llm_robot/data/Calibration/Eye-in-Hand2/ee2cam.json\", \"r\") as f:\n",
    "    data = json.load(f)\n",
    "\n",
    "R_ee2cam = np.array(data[\"R_ee2cam\"])\n",
    "t_ee2cam = np.array(data[\"t_ee2cam\"]).reshape(3)\n",
    "q_init = R.from_matrix(R_ee2cam).as_quat()\n",
    "x0 = np.hstack((q_init, t_ee2cam))"
   ]
  },
  {
   "cell_type": "markdown",
   "id": "9a2b0af8",
   "metadata": {},
   "source": [
    "## 2. pose 및 charuco load"
   ]
  },
  {
   "cell_type": "code",
   "execution_count": 5,
   "id": "4af2e572",
   "metadata": {},
   "outputs": [],
   "source": [
    "sorted_pose_files = sorted(glob(\"/home/ros/llm_robot/data/Calibration/Eye-in-Hand2/poses/*.json\"))\n",
    "sorted_charuco_files = sorted(glob(\"/home/ros/llm_robot/data/Calibration/Eye-in-Hand2/*.json\"))"
   ]
  },
  {
   "cell_type": "code",
   "execution_count": 6,
   "id": "0b1c7be8",
   "metadata": {},
   "outputs": [
    {
     "data": {
      "text/plain": [
       "(20, 20)"
      ]
     },
     "execution_count": 6,
     "metadata": {},
     "output_type": "execute_result"
    }
   ],
   "source": [
    "len(sorted_pose_files), len(sorted_charuco_files[:-1])"
   ]
  },
  {
   "cell_type": "code",
   "execution_count": 7,
   "id": "b9286588",
   "metadata": {},
   "outputs": [],
   "source": [
    "pose_data = []\n",
    "for pf, cf in zip(sorted_pose_files, sorted_charuco_files[:-1]):\n",
    "    with open(pf) as f: pose = json.load(f)\n",
    "    with open(cf) as f: charuco = json.load(f)\n",
    "    \n",
    "    R_base2ee = np.array(pose[\"R_base2ee\"])\n",
    "    t_base2ee = np.array(pose[\"t_base2ee\"]).reshape(3)\n",
    "    R_board2cam = R.from_rotvec(np.array(charuco[\"rvec\"]).reshape(3)).as_matrix()\n",
    "    t_board2cam = np.array(charuco[\"tvec\"]).reshape(3)\n",
    "    \n",
    "    pose_data.append({\n",
    "        \"R_base2ee\": R_base2ee,\n",
    "        \"t_base2ee\": t_base2ee,\n",
    "        \"R_board2cam\": R_board2cam,\n",
    "        \"t_board2cam\": t_board2cam\n",
    "    })"
   ]
  },
  {
   "cell_type": "markdown",
   "id": "feaf9129",
   "metadata": {},
   "source": [
    "# 3. 최적화 함수 "
   ]
  },
  {
   "cell_type": "code",
   "execution_count": 8,
   "id": "49d0a2a5",
   "metadata": {},
   "outputs": [],
   "source": [
    "def residuals(x, data):\n",
    "    q = x[:4]\n",
    "    t = x[4:]\n",
    "    R_ee2cam = R.from_quat(q).as_matrix()\n",
    "    t_ee2cam = t\n",
    "    res = []\n",
    "    for d in data:\n",
    "        R_pred = d[\"R_base2ee\"] @ R_ee2cam\n",
    "        t_pred = d[\"R_base2ee\"] @ t_ee2cam + d[\"t_base2ee\"]\n",
    "        R_err = R.from_matrix(R_pred.T @ d[\"R_board2cam\"]).as_rotvec()\n",
    "        t_err = t_pred - d[\"t_board2cam\"]\n",
    "        res.extend(R_err)\n",
    "        res.extend(t_err)\n",
    "    res.append(np.linalg.norm(q) - 1)\n",
    "    return np.array(res)\n",
    "\n",
    "result = least_squares(residuals, x0, args=(pose_data,), method='lm')"
   ]
  },
  {
   "cell_type": "code",
   "execution_count": 9,
   "id": "d6ca9acb",
   "metadata": {},
   "outputs": [
    {
     "data": {
      "text/plain": [
       "     message: `ftol` termination condition is satisfied.\n",
       "     success: True\n",
       "      status: 2\n",
       "         fun: [-4.781e-02 -2.569e-01 ...  3.513e+01 -1.981e-08]\n",
       "           x: [-6.669e-01  7.422e-01 -5.967e-02  3.090e-02 -5.008e+01\n",
       "                1.056e+02  2.437e+02]\n",
       "        cost: 44955.454108226535\n",
       "         jac: [[-2.520e-01 -5.261e-02 ...  0.000e+00  0.000e+00]\n",
       "               [-8.418e-02 -2.964e-02 ...  0.000e+00  0.000e+00]\n",
       "               ...\n",
       "               [ 0.000e+00  0.000e+00 ... -1.712e-02 -9.714e-01]\n",
       "               [-6.669e-01  7.422e-01 ...  0.000e+00  0.000e+00]]\n",
       "        grad: [ 2.444e-05  2.072e-05 -1.126e-05  7.230e-06 -3.440e-06\n",
       "                6.561e-09  1.015e-06]\n",
       "  optimality: 2.4435802324824494e-05\n",
       " active_mask: [0 0 0 0 0 0 0]\n",
       "        nfev: 49\n",
       "        njev: None"
      ]
     },
     "execution_count": 9,
     "metadata": {},
     "output_type": "execute_result"
    }
   ],
   "source": [
    "result"
   ]
  },
  {
   "cell_type": "markdown",
   "id": "3c43637e",
   "metadata": {},
   "source": [
    "# 결과 저장"
   ]
  },
  {
   "cell_type": "code",
   "execution_count": null,
   "id": "75d91ce4",
   "metadata": {},
   "outputs": [],
   "source": [
    "q_opt = result.x[:4] / np.linalg.norm(result.x[:4])\n",
    "t_opt = result.x[4:]\n",
    "R_opt = R.from_quat(q_opt).as_matrix()\n",
    "\n",
    "result_dict = {\n",
    "    \"R_cam2ee\": R_opt.tolist(),\n",
    "    \"t_cam2ee\": (t_opt / 1000).tolist()\n",
    "}\n",
    "with open(\"optimized_cam2ee_LM.json\", \"w\") as f:\n",
    "    json.dump(result_dict, f, indent=2)\n"
   ]
  }
 ],
 "metadata": {
  "kernelspec": {
   "display_name": "llm_env",
   "language": "python",
   "name": "python3"
  },
  "language_info": {
   "codemirror_mode": {
    "name": "ipython",
    "version": 3
   },
   "file_extension": ".py",
   "mimetype": "text/x-python",
   "name": "python",
   "nbconvert_exporter": "python",
   "pygments_lexer": "ipython3",
   "version": "3.10.12"
  }
 },
 "nbformat": 4,
 "nbformat_minor": 5
}
